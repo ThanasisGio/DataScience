{
 "cells": [
  {
   "cell_type": "code",
   "execution_count": null,
   "metadata": {
    "id": "4nRUxnYUGZA0"
   },
   "outputs": [],
   "source": [
    "# Importing the libraries\n",
    "import numpy as np\n",
    "import matplotlib.pyplot as plt\n",
    "import pandas as pd\n",
    "from sklearn.model_selection import train_test_split\n",
    "from sklearn.linear_model import LogisticRegression\n",
    "from sklearn.metrics import accuracy_score, precision_score, recall_score\n",
    "\n",
    "# Reading the dataset\n",
    "data = pd.read_csv(\"marks.txt\",header=None)\n",
    "\n",
    "# data slicing\n",
    "X = data.iloc[:, :-1]  # all rows , all but the last column\n",
    "y = data.iloc[:, -1]   # all rows, last column\n"
   ]
  },
  {
   "cell_type": "code",
   "execution_count": null,
   "metadata": {
    "id": "cUfelL-_GZA0",
    "outputId": "b7bf9328-8179-4f39-8b44-5cbe0b77f385"
   },
   "outputs": [
    {
     "data": {
      "image/png": "[encoded data removed]",
      "text/plain": [
       "<Figure size 432x288 with 1 Axes>"
      ]
     },
     "metadata": {
      "needs_background": "light",
      "tags": []
     },
     "output_type": "display_data"
    }
   ],
   "source": [
    "# Plot the data\n",
    "admitted = data.loc[y == 1]  # extract the data-points where y=1,ie, admitted \n",
    "not_admitted = data.loc[y == 0] # extract the data-points where y=0,ie, not admitted \n",
    "\n",
    "plt.scatter(admitted.iloc[:, 0], admitted.iloc[:, 1], s=10, label='Admitted', color = \"green\")\n",
    "#for y=1 datapoints, marks of subject1 in X-axis and subject2 in Y-axis \n",
    "plt.scatter(not_admitted.iloc[:, 0], not_admitted.iloc[:, 1], s=10, label='Not Admitted', color=\"red\")\n",
    "#for y=0 datapoints, marks of subject1 in X-axis and subject2 in Y-axis \n",
    "plt.legend()\n",
    "plt.show()\n"
   ]
  },
  {
   "cell_type": "code",
   "execution_count": null,
   "metadata": {
    "id": "6Y_VFEAZGZA1",
    "outputId": "1f711dd3-376e-4924-e469-d3f9df9f3e90"
   },
   "outputs": [
    {
     "name": "stderr",
     "output_type": "stream",
     "text": [
      "C:\\Users\\Ram\\Anaconda3\\lib\\site-packages\\sklearn\\linear_model\\logistic.py:433: FutureWarning: Default solver will be changed to 'lbfgs' in 0.22. Specify a solver to silence this warning.\n",
      "  FutureWarning)\n"
     ]
    }
   ],
   "source": [
    "# Split data into train and test\n",
    "\n",
    "X_train,X_test,y_train,y_test=train_test_split(X,y,test_size=0.25,random_state=0)\n",
    "\n",
    "# Training\n",
    "logreg = LogisticRegression()\n",
    "logreg.fit(X_train,y_train)\n",
    "\n",
    "# Test\n",
    "y_pred=logreg.predict(X_test)  # predicting 0/1 labels\n",
    "y_pred_prob = logreg.predict_proba(X_test)  # predicting probabilities of 0/1 labels\n"
   ]
  },
  {
   "cell_type": "code",
   "execution_count": null,
   "metadata": {
    "id": "jM_MmSwHGZA1",
    "outputId": "2737f368-71c6-4a1c-b6c1-a6618befa596"
   },
   "outputs": [
    {
     "name": "stdout",
     "output_type": "stream",
     "text": [
      "Datapoint          Actual_label    Predicted_label Probabilities\n",
      "[80.19018075 44.82162893] 1.0 1.0 [0.35453757 0.64546243]\n",
      "[42.07545454 78.844786  ] 0.0 1.0 [0.44154639 0.55845361]\n",
      "[35.84740877 72.90219803] 0.0 0.0 [0.53178147 0.46821853]\n",
      "[49.58667722 59.80895099] 0.0 0.0 [0.50445027 0.49554973]\n",
      "[99.8278578  72.36925193] 1.0 1.0 [0.12206819 0.87793181]\n",
      "[74.49269242 84.84513685] 1.0 1.0 [0.18784904 0.81215096]\n",
      "[69.07014406 52.74046973] 1.0 1.0 [0.39172822 0.60827178]\n",
      "[60.45788574 73.0949981 ] 1.0 1.0 [0.33379765 0.66620235]\n",
      "[50.28649612 49.80453881] 0.0 0.0 [0.56412748 0.43587252]\n",
      "[83.48916274 48.3802858 ] 1.0 1.0 [0.30963768 0.69036232]\n",
      "[34.52451385 60.39634246] 0.0 0.0 [0.62248099 0.37751901]\n",
      "[55.48216114 35.57070347] 0.0 0.0 [0.61319954 0.38680046]\n",
      "[60.45555629 42.50840944] 0.0 0.0 [0.52843714 0.47156286]\n",
      "[69.36458876 97.71869196] 1.0 1.0 [0.16337375 0.83662625]\n",
      "[75.02474557 46.55401354] 1.0 1.0 [0.38366035 0.61633965]\n",
      "[61.37928945 72.80788731] 1.0 1.0 [0.32872611 0.67127389]\n",
      "[50.53478829 48.85581153] 0.0 0.0 [0.56824395 0.43175605]\n",
      "[77.92409145 68.97235999] 1.0 1.0 [0.23870956 0.76129044]\n",
      "[52.04540477 69.43286012] 1.0 1.0 [0.42148195 0.57851805]\n",
      "[76.0987867  87.42056972] 1.0 1.0 [0.17010368 0.82989632]\n",
      "[82.36875376 40.61825516] 0.0 1.0 [0.36342275 0.63657725]\n",
      "[56.2538175  39.26147251] 0.0 0.0 [0.58374411 0.41625589]\n",
      "[60.18259939 86.3085521 ] 1.0 1.0 [0.26314971 0.73685029]\n",
      "[64.03932042 78.03168802] 1.0 1.0 [0.28103875 0.71896125]\n",
      "[62.22267576 52.06099195] 0.0 1.0 [0.45118326 0.54881674]\n"
     ]
    }
   ],
   "source": [
    "# Predicting on test data\n",
    "y_test_np = y_test.values \t\t# convert from dataframe to numpy array\n",
    "X_test_np = X_test.values\n",
    "\n",
    "print (\"Datapoint          Actual_label    Predicted_label Probabilities\")\n",
    "for i in range(0,len(y_test)):\n",
    "    print (X_test_np[i], float(y_test_np[i]),float(y_pred[i]), y_pred_prob[i])\n"
   ]
  },
  {
   "cell_type": "code",
   "execution_count": null,
   "metadata": {
    "id": "Z1V26fCbGZA1",
    "outputId": "9544f51f-7e7f-473b-fa0a-3d375460ab1f"
   },
   "outputs": [
    {
     "name": "stdout",
     "output_type": "stream",
     "text": [
      "Accuracy: 0.88\n",
      "Precision: 0.8235294117647058\n",
      "Recall: 1.0\n"
     ]
    }
   ],
   "source": [
    "# Accuracy measures\u000b",
    "\n",
    "print(\"Accuracy:\",accuracy_score(y_test, y_pred))\n",
    "print(\"Precision:\",precision_score(y_test, y_pred))\n",
    "print(\"Recall:\",recall_score(y_test, y_pred))\n"
   ]
  },
  {
   "cell_type": "code",
   "execution_count": null,
   "metadata": {
    "id": "Coz8P7T8GZA2"
   },
   "outputs": [],
   "source": []
  }
 ],
 "metadata": {
  "colab": {
   "name": "2 - Logistic Regression.ipynb",
   "provenance": []
  },
  "kernelspec": {
   "display_name": "Python 3",
   "language": "python",
   "name": "python3"
  },
  "language_info": {
   "codemirror_mode": {
    "name": "ipython",
    "version": 3
   },
   "file_extension": ".py",
   "mimetype": "text/x-python",
   "name": "python",
   "nbconvert_exporter": "python",
   "pygments_lexer": "ipython3",
   "version": "3.8.5"
  }
 },
 "nbformat": 4,
 "nbformat_minor": 1
}
