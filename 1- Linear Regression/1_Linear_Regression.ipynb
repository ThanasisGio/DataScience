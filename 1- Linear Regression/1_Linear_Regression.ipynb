{
 "cells": [
  {
   "cell_type": "code",
   "execution_count": null,
   "metadata": {
    "id": "DiCy2q03IZO4"
   },
   "outputs": [],
   "source": [
    "from __future__ import print_function\n",
    "import numpy as np\n",
    "import matplotlib.pyplot as plt\n",
    "import pandas as pd"
   ]
  },
  {
   "cell_type": "code",
   "execution_count": null,
   "metadata": {
    "id": "WkN-wBk9IZO4",
    "outputId": "b9ab3c2d-8d0d-4f0f-b706-bfbcb6d393bd"
   },
   "outputs": [
    {
     "name": "stdout",
     "output_type": "stream",
     "text": [
      "(30, 2)\n"
     ]
    }
   ],
   "source": [
    "# Importing the dataset\n",
    "dataset = pd.read_csv('Salary_Data.csv')\n",
    "print (dataset.shape) # to check the dimension of the dataset ; (30,2) = 30 rows and 2 columns, means 30 data points have 2 columns\n",
    "\n",
    "X = dataset['YearsExperience'].values\n",
    "y = dataset['Salary'].values\n",
    "\n",
    "# to convert 1D array elements into 2D, compatible for python\n",
    "X = X.reshape(-1,1)\n",
    "y = y.reshape(-1,1)\n"
   ]
  },
  {
   "cell_type": "code",
   "execution_count": null,
   "metadata": {
    "id": "zcBHKdafIZO4",
    "outputId": "b43c2135-2066-4542-b4b8-436a122a5419"
   },
   "outputs": [
    {
     "name": "stdout",
     "output_type": "stream",
     "text": [
      "(21, 1)\n",
      "(9, 1)\n"
     ]
    }
   ],
   "source": [
    "#Splitting the dataset into the Training set and Test set\n",
    "from sklearn.model_selection import train_test_split\n",
    "X_train, X_test, y_train, y_test = train_test_split (X, y, test_size = 0.3, random_state = 42)\n",
    "# test_size : fraction of the total data you want to keep as test\n",
    "# random_state : to ensure same train-test split in every run of your code\n",
    "print (X_train.shape)# (21L, 1L)\n",
    "print (X_test.shape)# (9L, 1L)\n",
    "\n"
   ]
  },
  {
   "cell_type": "code",
   "execution_count": null,
   "metadata": {
    "id": "Uqwd5XYxIZO4",
    "outputId": "c927cb75-fbc4-4351-ca7c-a363a58b1480"
   },
   "outputs": [
    {
     "name": "stdout",
     "output_type": "stream",
     "text": [
      "-- Epoch 1\n",
      "Norm: 11483.83, NNZs: 1, Bias: 12637.729530, T: 21, Avg. loss: 1338387062.022222\n",
      "Total training time: 0.00 seconds.\n",
      "-- Epoch 2\n",
      "Norm: 9542.48, NNZs: 1, Bias: 19565.490129, T: 42, Avg. loss: 1692245959.253014\n",
      "Total training time: 0.00 seconds.\n",
      "-- Epoch 3\n",
      "Norm: 3033.06, NNZs: 1, Bias: 19705.441279, T: 63, Avg. loss: 121698467.975697\n",
      "Total training time: 0.00 seconds.\n",
      "-- Epoch 4\n",
      "Norm: 9466.29, NNZs: 1, Bias: 20449.814684, T: 84, Avg. loss: 164798069.945923\n",
      "Total training time: 0.00 seconds.\n",
      "-- Epoch 5\n",
      "Norm: 9847.18, NNZs: 1, Bias: 20764.266074, T: 105, Avg. loss: 58167184.474221\n",
      "Total training time: 0.00 seconds.\n",
      "-- Epoch 6\n",
      "Norm: 8612.74, NNZs: 1, Bias: 22093.501219, T: 126, Avg. loss: 76740912.856131\n",
      "Total training time: 0.00 seconds.\n",
      "-- Epoch 7\n",
      "Norm: 8554.12, NNZs: 1, Bias: 22492.880711, T: 147, Avg. loss: 28606469.980272\n",
      "Total training time: 0.00 seconds.\n",
      "-- Epoch 8\n",
      "Norm: 9607.11, NNZs: 1, Bias: 23429.316417, T: 168, Avg. loss: 22912862.965612\n",
      "Total training time: 0.00 seconds.\n",
      "-- Epoch 9\n",
      "Norm: 10368.38, NNZs: 1, Bias: 23876.389980, T: 189, Avg. loss: 35378509.238846\n",
      "Total training time: 0.00 seconds.\n",
      "-- Epoch 10\n",
      "Norm: 9958.12, NNZs: 1, Bias: 23873.610295, T: 210, Avg. loss: 39753667.365549\n",
      "Total training time: 0.00 seconds.\n",
      "-- Epoch 11\n",
      "Norm: 9689.18, NNZs: 1, Bias: 23793.401029, T: 231, Avg. loss: 27696910.255529\n",
      "Total training time: 0.00 seconds.\n",
      "-- Epoch 12\n",
      "Norm: 11455.47, NNZs: 1, Bias: 24017.386860, T: 252, Avg. loss: 40405861.601737\n",
      "Total training time: 0.00 seconds.\n",
      "-- Epoch 13\n",
      "Norm: 9952.18, NNZs: 1, Bias: 23635.496998, T: 273, Avg. loss: 52421986.276670\n",
      "Total training time: 0.00 seconds.\n",
      "Convergence after 13 epochs took 0.00 seconds\n"
     ]
    },
    {
     "name": "stderr",
     "output_type": "stream",
     "text": [
      "C:\\Users\\Ram\\Anaconda3\\lib\\site-packages\\sklearn\\utils\\validation.py:761: DataConversionWarning: A column-vector y was passed when a 1d array was expected. Please change the shape of y to (n_samples, ), for example using ravel().\n",
      "  y = column_or_1d(y, warn=True)\n"
     ]
    }
   ],
   "source": [
    "# Fitting Simple Linear Regression to the Training set\n",
    "from sklearn.linear_model import SGDRegressor\n",
    "\n",
    "regressor = SGDRegressor(eta0=0.1,max_iter=1000,tol=1e-3,verbose=1)\n",
    "regressor.fit( X_train, y_train )\n",
    "\n",
    "# Predicting the Test set results\n",
    "y_pred = regressor.predict(X_test)\n"
   ]
  },
  {
   "cell_type": "code",
   "execution_count": null,
   "metadata": {
    "id": "qCFqMDddIZO4",
    "outputId": "6c3a7bbf-02b7-493a-edcc-14643e44d237"
   },
   "outputs": [
    {
     "name": "stdout",
     "output_type": "stream",
     "text": [
      "X_value   Actual_Y_value   Predicted_Y_value\n",
      "9.6 112635.0 119176.44477030664\n",
      "4.9 67938.0 72401.18909014025\n",
      "8.2 113812.0 105243.38988685282\n",
      "5.3 83088.0 76382.0619139842\n",
      "3.2 64445.0 55482.47958880348\n",
      "3.7 57189.0 60458.57061860841\n",
      "10.3 122391.0 126142.97221203356\n",
      "8.7 109431.0 110219.48091665775\n",
      "4.0 56957.0 63444.22523649137\n"
     ]
    }
   ],
   "source": [
    "# Seeing the predicted test set results\n",
    "print (\"X_value   Actual_Y_value   Predicted_Y_value\")\n",
    "for i in range( 0, len(X_test) ):\n",
    "     print (float(X_test[i]), float(y_test[i]), float(y_pred[i]))\n"
   ]
  },
  {
   "cell_type": "code",
   "execution_count": null,
   "metadata": {
    "id": "oAC4U7aYIZO4",
    "outputId": "bba49109-acd3-4c8a-bde2-20bd7dff8d32"
   },
   "outputs": [
    {
     "data": {
      "image/png": "[encoded data removed]",
      "text/plain": [
       "<Figure size 432x288 with 1 Axes>"
      ]
     },
     "metadata": {
      "needs_background": "light",
      "tags": []
     },
     "output_type": "display_data"
    }
   ],
   "source": [
    "# Visualising the Test set results\n",
    "plt.scatter(X_test, y_test, color = 'red')\n",
    "plt.plot(X_test, regressor.predict(X_test), color = 'blue')\n",
    "plt.title('Salary vs Experience (Test set)')\n",
    "plt.xlabel('Years of Experience')\n",
    "plt.ylabel('Salary')\n",
    "plt.show()\n",
    "\n"
   ]
  },
  {
   "cell_type": "code",
   "execution_count": null,
   "metadata": {
    "id": "nHNOnz3KIZO4",
    "outputId": "3a30cf45-9514-46bb-acdc-52ba6f746d10"
   },
   "outputs": [
    {
     "name": "stdout",
     "output_type": "stream",
     "text": [
      "Absolute error :  5504.327939399721\n",
      "Mean Squared error :  6045.211093436616\n",
      "R2 error :  0.9433683332164994\n"
     ]
    }
   ],
   "source": [
    "\n",
    "from sklearn import metrics\n",
    "from sklearn.metrics import mean_absolute_error,r2_score\n",
    "abs_error = mean_absolute_error(y_test, y_pred)\n",
    "print (\"Absolute error : \",abs_error)\n",
    "\n",
    "# mean_sq_error = np.mean((y_pred - y_test_np)**2)\n",
    "print (\"Mean Squared error : \",np.sqrt(metrics.mean_squared_error(y_test, y_pred)))\n",
    "\n",
    "r2 = r2_score(y_test, y_pred)\n",
    "print (\"R2 error : \",r2)\n"
   ]
  },
  {
   "cell_type": "code",
   "execution_count": null,
   "metadata": {
    "id": "ODc3jFINIZO4"
   },
   "outputs": [],
   "source": []
  }
 ],
 "metadata": {
  "colab": {
   "name": "1 - Linear Regression.ipynb",
   "provenance": []
  },
  "kernelspec": {
   "display_name": "Python 3",
   "language": "python",
   "name": "python3"
  },
  "language_info": {
   "codemirror_mode": {
    "name": "ipython",
    "version": 3
   },
   "file_extension": ".py",
   "mimetype": "text/x-python",
   "name": "python",
   "nbconvert_exporter": "python",
   "pygments_lexer": "ipython3",
   "version": "3.8.5"
  }
 },
 "nbformat": 4,
 "nbformat_minor": 1
}
